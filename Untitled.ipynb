{
 "cells": [
  {
   "cell_type": "code",
   "execution_count": 48,
   "metadata": {},
   "outputs": [],
   "source": [
    "from splinter import Browser\n",
    "from bs4 import BeautifulSoup as bs\n",
    "# import csv\n",
    "# import pandas as pd\n",
    "# import csv_to_sqlite"
   ]
  },
  {
   "cell_type": "code",
   "execution_count": 49,
   "metadata": {},
   "outputs": [],
   "source": [
    "executable_path = {'executable_path': 'chromedriver.exe'}\n",
    "browser = Browser('chrome', **executable_path, headless=False)"
   ]
  },
  {
   "cell_type": "code",
   "execution_count": 50,
   "metadata": {},
   "outputs": [],
   "source": [
    "url = 'https://mars.nasa.gov/news/'\n",
    "browser.visit(url)\n",
    "\n",
    "# # Create a Beautiful Soup object\n",
    "# soup = bs(url, 'html.parser')\n",
    "# type(soup)\n",
    "\n",
    "# bs4.BeautifulSoup"
   ]
  },
  {
   "cell_type": "code",
   "execution_count": 53,
   "metadata": {},
   "outputs": [],
   "source": [
    "results = soup.find('div', class_='image_and_description_container')"
   ]
  },
  {
   "cell_type": "code",
   "execution_count": 54,
   "metadata": {},
   "outputs": [
    {
     "ename": "AttributeError",
     "evalue": "'NoneType' object has no attribute 'prettify'",
     "output_type": "error",
     "traceback": [
      "\u001b[1;31m---------------------------------------------------------------------------\u001b[0m",
      "\u001b[1;31mAttributeError\u001b[0m                            Traceback (most recent call last)",
      "\u001b[1;32m<ipython-input-54-d240cd3bd521>\u001b[0m in \u001b[0;36m<module>\u001b[1;34m\u001b[0m\n\u001b[1;32m----> 1\u001b[1;33m \u001b[0mprint\u001b[0m\u001b[1;33m(\u001b[0m\u001b[0mresults\u001b[0m\u001b[1;33m.\u001b[0m\u001b[0mprettify\u001b[0m\u001b[1;33m(\u001b[0m\u001b[1;33m)\u001b[0m\u001b[1;33m)\u001b[0m\u001b[1;33m\u001b[0m\u001b[1;33m\u001b[0m\u001b[0m\n\u001b[0m",
      "\u001b[1;31mAttributeError\u001b[0m: 'NoneType' object has no attribute 'prettify'"
     ]
    }
   ],
   "source": [
    "print(results.prettify())"
   ]
  },
  {
   "cell_type": "code",
   "execution_count": 32,
   "metadata": {},
   "outputs": [],
   "source": [
    " # Loop through returned results\n",
    "for result in results:\n",
    "    # Error handling\n",
    "    try:\n",
    "        # Identify and return title of listing\n",
    "#         title = result.find('a', class_=\"target\").text\n",
    "        title = result.content_title\n",
    "        # Identify and return price of listing\n",
    "#         para = result.a.span.text\n",
    "#         # Identify and return link to listing\n",
    "#         link = result.a['href']\n",
    "\n",
    "#         # Print results only if title, price, and link are available\n",
    "        if (title and price and link):\n",
    "            print('-------------')\n",
    "            print(title)\n",
    "#             print(price)\n",
    "#             print(link)\n",
    "    except AttributeError as e:\n",
    "        print(e)"
   ]
  },
  {
   "cell_type": "code",
   "execution_count": null,
   "metadata": {},
   "outputs": [],
   "source": []
  },
  {
   "cell_type": "code",
   "execution_count": 33,
   "metadata": {},
   "outputs": [
    {
     "ename": "AttributeError",
     "evalue": "'NoneType' object has no attribute 'dtype'",
     "output_type": "error",
     "traceback": [
      "\u001b[1;31m---------------------------------------------------------------------------\u001b[0m",
      "\u001b[1;31mAttributeError\u001b[0m                            Traceback (most recent call last)",
      "\u001b[1;32m<ipython-input-33-33e820350903>\u001b[0m in \u001b[0;36m<module>\u001b[1;34m\u001b[0m\n\u001b[1;32m----> 1\u001b[1;33m \u001b[0mtitle\u001b[0m\u001b[1;33m.\u001b[0m\u001b[0mdtype\u001b[0m\u001b[1;33m(\u001b[0m\u001b[1;33m)\u001b[0m\u001b[1;33m\u001b[0m\u001b[1;33m\u001b[0m\u001b[0m\n\u001b[0m",
      "\u001b[1;31mAttributeError\u001b[0m: 'NoneType' object has no attribute 'dtype'"
     ]
    }
   ],
   "source": [
    "title.dtype()"
   ]
  },
  {
   "cell_type": "code",
   "execution_count": 17,
   "metadata": {},
   "outputs": [
    {
     "name": "stdout",
     "output_type": "stream",
     "text": [
      "No Result\n",
      "No Result\n",
      "No Result\n",
      "No Result\n",
      "No Result\n",
      "No Result\n",
      "No Result\n",
      "No Result\n",
      "No Result\n",
      "No Result\n",
      "No Result\n",
      "No Result\n",
      "No Result\n",
      "No Result\n",
      "No Result\n",
      "No Result\n",
      "No Result\n",
      "No Result\n",
      "No Result\n",
      "No Result\n",
      "No Result\n",
      "No Result\n",
      "No Result\n",
      "No Result\n",
      "No Result\n",
      "No Result\n",
      "No Result\n",
      "No Result\n",
      "No Result\n",
      "No Result\n",
      "No Result\n",
      "No Result\n",
      "No Result\n",
      "No Result\n",
      "No Result\n",
      "No Result\n",
      "No Result\n",
      "No Result\n",
      "No Result\n",
      "No Result\n"
     ]
    }
   ],
   "source": [
    "nasa_headlines = {}\n",
    "nasa_headlines_df = pd.DataFrame({'title': [], 'para': []})\n",
    "\n",
    "soup = BeautifulSoup(browser.html,'html.parser')\n",
    "details = soup.find_all('div', class_='list_text')\n",
    "\n",
    "\n",
    "for detail in details:\n",
    "    try:\n",
    "        title = detail.find('div', class_='content_title').get_text()\n",
    "#         para = detail.find('p',class_='article_teaser_body').get_text()\n",
    "        nasa_headlines_df = nasa_headlines_df.append({'title': title, 'para': para}, ignore_index=True)\n",
    "    except:\n",
    "        print('No Result')\n",
    "\n",
    "    nasa_headlines_df.append(nasa_headlines_df)"
   ]
  },
  {
   "cell_type": "code",
   "execution_count": null,
   "metadata": {},
   "outputs": [],
   "source": []
  },
  {
   "cell_type": "code",
   "execution_count": null,
   "metadata": {},
   "outputs": [],
   "source": [
    "print(nasa_title_para)"
   ]
  }
 ],
 "metadata": {
  "kernelspec": {
   "display_name": "Python 3",
   "language": "python",
   "name": "python3"
  },
  "language_info": {
   "codemirror_mode": {
    "name": "ipython",
    "version": 3
   },
   "file_extension": ".py",
   "mimetype": "text/x-python",
   "name": "python",
   "nbconvert_exporter": "python",
   "pygments_lexer": "ipython3",
   "version": "3.7.6"
  }
 },
 "nbformat": 4,
 "nbformat_minor": 4
}
