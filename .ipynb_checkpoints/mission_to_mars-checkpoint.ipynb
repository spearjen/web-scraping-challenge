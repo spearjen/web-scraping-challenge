{
 "cells": [
  {
   "cell_type": "markdown",
   "metadata": {},
   "source": [
    "# return one Python dictionary containing all of the scraped data.\n",
    "I couldn't figure out how to do this well, so I inserted each dictionary separately.  I think I have similar results, but we'll see.\n"
   ]
  },
  {
   "cell_type": "code",
   "execution_count": 395,
   "metadata": {},
   "outputs": [],
   "source": [
    "from splinter import Browser\n",
    "from splinter.exceptions import ElementDoesNotExist\n",
    "from bs4 import BeautifulSoup\n",
    "import requests\n",
    "import re\n",
    "import time\n",
    "import pandas as pd\n",
    "master_mars_dict={}\n",
    "from flatten_dict import flatten\n",
    "from pprint import pprint\n",
    "import pymongo"
   ]
  },
  {
   "cell_type": "code",
   "execution_count": 396,
   "metadata": {},
   "outputs": [],
   "source": [
    "conn='mongodb://localhost:27017'\n",
    "client = pymongo.MongoClient(conn)\n",
    "db=client.marsDB"
   ]
  },
  {
   "cell_type": "code",
   "execution_count": 397,
   "metadata": {},
   "outputs": [
    {
     "data": {
      "text/plain": [
       "Database(MongoClient(host=['localhost:27017'], document_class=dict, tz_aware=False, connect=True), 'marsDB')"
      ]
     },
     "execution_count": 397,
     "metadata": {},
     "output_type": "execute_result"
    }
   ],
   "source": [
    "db"
   ]
  },
  {
   "cell_type": "code",
   "execution_count": 398,
   "metadata": {},
   "outputs": [],
   "source": [
    "executable_path = {'executable_path': 'chromedriver.exe'}\n",
    "browser = Browser('chrome', **executable_path, headless=False)"
   ]
  },
  {
   "cell_type": "code",
   "execution_count": 399,
   "metadata": {},
   "outputs": [],
   "source": [
    "url = 'https://mars.nasa.gov/news/'\n",
    "browser.visit(url)"
   ]
  },
  {
   "cell_type": "code",
   "execution_count": 400,
   "metadata": {},
   "outputs": [
    {
     "name": "stdout",
     "output_type": "stream",
     "text": [
      "[{'news_title': \"NASA Readies Perseverance Mars Rover's Earthly Twin\", 'news_para': \"Did you know NASA's next Mars rover has a nearly identical sibling on Earth for testing? Even better, it's about to roll for the first time through a replica Martian landscape.\"}, {'news_title': \"NASA Engineers Checking InSight's Weather Sensors\", 'news_para': 'An electronics issue is suspected to be preventing the sensors from sharing their data about Mars weather with the spacecraft.'}, {'news_title': \"Follow NASA's Perseverance Rover in Real Time on Its Way to Mars\", 'news_para': \"A crisply rendered web application can show you where the agency's Mars 2020 mission is right now as it makes its way to the Red Planet for a Feb. 18, 2021, landing.\"}, {'news_title': 'NASA Establishes Board to Initially Review Mars Sample Return Plans', 'news_para': 'The board will assist with analysis of current plans and goals for one of the most difficult missions humanity has ever undertaken.'}, {'news_title': \"NASA's Ingenuity Mars Helicopter Recharges Its Batteries in Flight\", 'news_para': 'Headed to the Red Planet with the Perseverance rover, the pioneering helicopter is powered up for the first time in interplanetary space as part of a systems check.'}, {'news_title': \"Celebrate Mars Reconnaissance Orbiter's Views From Above\", 'news_para': 'Marking its 15th anniversary since launch, one of the oldest spacecraft at the Red Planet has provided glimpses of dust devils, avalanches, and more.'}, {'news_title': \"NASA's MAVEN Observes Martian Night Sky Pulsing in Ultraviolet Light\", 'news_para': 'Vast areas of the Martian night sky pulse in ultraviolet light, according to images from NASA’s MAVEN spacecraft. The results are being used to illuminate complex circulation patterns in the Martian atmosphere.'}, {'news_title': \"8 Martian Postcards to Celebrate Curiosity's Landing Anniversary\", 'news_para': 'The NASA rover touched down eight years ago, on Aug. 5, 2012, and will soon be joined by a second rover, Perseverance.'}, {'news_title': 'NASA, ULA Launch Mars 2020 Perseverance Rover Mission to Red Planet', 'news_para': \"The agency's Mars 2020 mission is on its way. It will land at Jezero Crater in about seven months, on Feb. 18, 2021.\"}, {'news_title': \"NASA's Perseverance Rover Will Carry First Spacesuit Materials to Mars\", 'news_para': 'In a Q&A, spacesuit designer Amy Ross explains how five samples, including a piece of helmet visor, will be tested aboard the rover, which is targeting a July 30 launch.'}, {'news_title': \"A New Video Captures the Science of NASA's Perseverance Mars Rover\", 'news_para': 'With a targeted launch date of July 30, the next robotic scientist NASA is sending to the to the Red Planet has big ambitions.'}, {'news_title': 'NASA Invites Public to Share Excitement of Mars 2020 Perseverance Rover Launch', 'news_para': 'There are lots of ways to participate in the historic event, which is targeted for July 30.'}, {'news_title': \"NASA's Mars Perseverance Rover Passes Flight Readiness Review\", 'news_para': \"\\u200bThe agency's Mars 2020 mission has one more big prelaunch review – the Launch Readiness Review, on July 27.\"}, {'news_title': 'NASA to Broadcast Mars 2020 Perseverance Launch, Prelaunch Activities', 'news_para': 'Starting July 27, news activities will cover everything from mission engineering and science to returning samples from Mars to, of course, the launch itself.'}, {'news_title': \"6 Things to Know About NASA's Ingenuity Mars Helicopter\", 'news_para': 'The first helicopter attempting to fly on another planet is a marvel of engineering. Get up to speed with these key facts about its plans.'}, {'news_title': 'Join NASA for the Launch of the Mars 2020 Perseverance Rover', 'news_para': 'No matter where you live, choose from a menu of activities to join NASA as we \"Countdown to Mars\" and launch the Perseverance rover to the Red Planet.'}, {'news_title': \"NASA's Perseverance Rover Attached to Atlas V Rocket\", 'news_para': 'Ready for its launch later in the month, the Mars-bound rover will touch terra firma no more.'}, {'news_title': '7 Things to Know About the Mars 2020 Perseverance Rover Mission', 'news_para': \"NASA's next rover to the Red Planet is slated to launch no earlier than July 30. These highlights will get you up to speed on the ambitious mission.\"}, {'news_title': \"NASA's InSight Flexes Its Arm While Its 'Mole' Hits Pause\", 'news_para': \"Now that the lander's robotic arm has helped the mole get underground, it will resume science activities that have been on hold.\"}, {'news_title': \"Curiosity Mars Rover's Summer Road Trip Has Begun\", 'news_para': 'After more than a year in the \"clay-bearing unit,\" Curiosity is making a mile-long journey around some deep sand so that it can explore higher up Mount Sharp.'}, {'news_title': \"How NASA's Mars Helicopter Will Reach the Red Planet's Surface\", 'news_para': 'The small craft will seek to prove that powered, controlled flight is possible on another planet. But just getting it onto the surface of Mars will take a whole lot of ingenuity.'}, {'news_title': \"The Launch Is Approaching for NASA's Next Mars Rover, Perseverance\", 'news_para': \"The Red Planet's surface has been visited by eight NASA spacecraft. The ninth will be the first that includes a roundtrip ticket in its flight plan.\"}, {'news_title': 'NASA to Hold Mars 2020 Perseverance Rover Launch Briefing', 'news_para': \"Learn more about the agency's next Red Planet mission during a live event on June 17.\"}, {'news_title': \"While Stargazing on Mars, NASA's Curiosity Rover Spots Earth and Venus\", 'news_para': \"This new portrait of the Red Planet's neighbors was taken during a time when there's more dust in the air on Mars.\"}, {'news_title': \"NASA's Mars Rover Drivers Need Your Help\", 'news_para': 'Using an online tool to label Martian terrain types, you can train an artificial intelligence algorithm that could improve the way engineers guide the Curiosity rover.'}, {'news_title': \"Three New Views of Mars' Moon Phobos\", 'news_para': \"Taken with the infrared camera aboard NASA's Odyssey orbiter, they reveal temperature variations on the small moon as it drifts into and out of Mars’ shadow.\"}, {'news_title': \"The Extraordinary Sample-Gathering System of NASA's Perseverance Mars Rover\", 'news_para': 'Two astronauts collected Moon rocks on Apollo 11. It will take three robotic systems working together to gather up the first Mars rock samples for return to Earth.'}, {'news_title': \"The Detective Aboard NASA's Perseverance Rover\", 'news_para': 'An instrument called SHERLOC will, with the help of its partner WATSON, hunt for signs of ancient life by detecting organic molecules and minerals.'}, {'news_title': 'MAVEN Maps Electric Currents around Mars that are Fundamental to Atmospheric Loss', 'news_para': 'Five years after NASA’s MAVEN spacecraft entered into orbit around Mars, data from the mission has led to the creation of a map of electric current systems in the Martian atmosphere.'}, {'news_title': \"Air Deliveries Bring NASA's Perseverance Mars Rover Closer to Launch\", 'news_para': \"A NASA Wallops Flight Facility cargo plane transported more than two tons of equipment — including the rover's sample collection tubes — to Florida for this summer's liftoff.\"}, {'news_title': \"NASA Wins 4 Webbys, 4 People's Voice Awards\", 'news_para': 'Winners include the JPL-managed \"Send Your Name to Mars\" campaign, NASA\\'s Global Climate Change website and Solar System Interactive.'}, {'news_title': \"NASA's Perseverance Rover Goes Through Trials by Fire, Ice, Light and Sound\", 'news_para': \"The agency's new Mars rover is put through a series of tests in vacuum chambers, acoustic chambers and more to get ready for the Red Planet.\"}, {'news_title': \"NASA's Perseverance Rover Mission Getting in Shape for Launch\", 'news_para': 'Stacking spacecraft components on top of each other is one of the final assembly steps before a mission launches to the Red Planet.'}, {'news_title': 'NASA Perseverance Mars Rover Scientists Train in the Nevada Desert', 'news_para': \"Team members searched for signs of ancient microscopic life there, just as NASA's latest rover will on the Red Planet next year.\"}, {'news_title': \"NASA's Perseverance Rover Will Look at Mars Through These 'Eyes'\", 'news_para': 'A pair of zoomable cameras will help scientists and rover drivers with high-resolution color images.'}, {'news_title': \"Meet the People Behind NASA's Perseverance Rover\", 'news_para': \"These are the scientists and engineers who built NASA's next Mars rover and who will guide it to a safe landing in Jezero Crater.\"}, {'news_title': \"Q&A with the Student Who Named Ingenuity, NASA's Mars Helicopter\", 'news_para': 'As a longtime fan of space exploration, Vaneeza Rupani appreciates the creativity and collaboration involved with trying to fly on another planet.'}, {'news_title': \"Alabama High School Student Names NASA's Mars Helicopter\", 'news_para': \"Vaneeza Rupani's essay was chosen as the name for the small spacecraft, which will mark NASA's first attempt at powered flight on another planet.\"}, {'news_title': \"How NASA's Perseverance Mars Team Adjusted to Work in the Time of Coronavirus\", 'news_para': 'Like much of the rest of the world, the Mars rover team is pushing forward with its mission-critical work while putting the health and safety of their colleagues and community first.'}, {'news_title': \"NASA's Perseverance Mars Rover Gets Balanced\", 'news_para': \"The mission team performed a crucial weight-balancing test on the rover in preparation for this summer's history-making launch to the Red Planet.\"}]\n"
     ]
    }
   ],
   "source": [
    "html = browser.html\n",
    "soup = BeautifulSoup(html,'html.parser')\n",
    "articles = soup.find_all('div',class_='list_text')\n",
    "news_dict=[]\n",
    "\n",
    "title_list=[]\n",
    "para_list=[]\n",
    "\n",
    "for article in articles:\n",
    "    title = article.find('a').text.strip()\n",
    "    title_list.append(title)\n",
    "    para = article.find('div',class_='article_teaser_body').text.strip()\n",
    "    para_list.append(para)\n",
    "    news_pairs = {\n",
    "    \"news_title\": title,\n",
    "    \"news_para\": para\n",
    "    }\n",
    "        # Append hemisphere object to list\n",
    "    news_dict.append(news_pairs)\n",
    "print(news_dict)"
   ]
  },
  {
   "cell_type": "code",
   "execution_count": 401,
   "metadata": {},
   "outputs": [
    {
     "data": {
      "text/plain": [
       "<pymongo.results.InsertManyResult at 0x18649f34c48>"
      ]
     },
     "execution_count": 401,
     "metadata": {},
     "output_type": "execute_result"
    }
   ],
   "source": [
    "db.mars_news.insert_many(news_dict)"
   ]
  },
  {
   "cell_type": "code",
   "execution_count": 402,
   "metadata": {},
   "outputs": [],
   "source": [
    "url = 'https://www.jpl.nasa.gov/spaceimages/?search=&category=Mars'\n",
    "browser.visit(url)"
   ]
  },
  {
   "cell_type": "code",
   "execution_count": 403,
   "metadata": {},
   "outputs": [],
   "source": [
    "browser.click_link_by_id('full_image')"
   ]
  },
  {
   "cell_type": "code",
   "execution_count": 404,
   "metadata": {},
   "outputs": [
    {
     "name": "stdout",
     "output_type": "stream",
     "text": [
      "https://www.jpl.nasa.gov/spaceimages/images/mediumsize/PIA14316_ip.jpg\n",
      "Vesta Sizes Up\n"
     ]
    }
   ],
   "source": [
    "html = browser.html\n",
    "soup = BeautifulSoup(html,'html.parser')\n",
    "\n",
    "featured_image_url = soup.article.a['data-fancybox-href']\n",
    "featured_image_url = (f'https://www.jpl.nasa.gov{featured_image_url}')\n",
    "descrip =soup.h1.text.strip()\n",
    "print(featured_image_url)\n",
    "print(descrip)"
   ]
  },
  {
   "cell_type": "code",
   "execution_count": 418,
   "metadata": {},
   "outputs": [
    {
     "name": "stdout",
     "output_type": "stream",
     "text": [
      "[{'featured_image_url': 'https://www.jpl.nasa.gov/spaceimages/images/mediumsize/PIA14316_ip.jpg', 'description': 'Vesta Sizes Up'}]\n"
     ]
    },
    {
     "data": {
      "text/plain": [
       "<pymongo.results.InsertManyResult at 0x18647429208>"
      ]
     },
     "execution_count": 418,
     "metadata": {},
     "output_type": "execute_result"
    }
   ],
   "source": [
    "featured_image_dict=[]\n",
    "featured_image_dict = [{\n",
    "    \"featured_image_url\": featured_image_url,\n",
    "    \"description\": descrip\n",
    "    }]\n",
    "print(featured_image_dict)\n",
    "db.mars_featimg.insert_many(featured_image_dict)"
   ]
  },
  {
   "cell_type": "code",
   "execution_count": 408,
   "metadata": {},
   "outputs": [],
   "source": [
    "url = 'https://space-facts.com/mars/'"
   ]
  },
  {
   "cell_type": "code",
   "execution_count": 409,
   "metadata": {},
   "outputs": [
    {
     "data": {
      "text/plain": [
       "[                      0                              1\n",
       " 0  Equatorial Diameter:                       6,792 km\n",
       " 1       Polar Diameter:                       6,752 km\n",
       " 2                 Mass:  6.39 × 10^23 kg (0.11 Earths)\n",
       " 3                Moons:            2 (Phobos & Deimos)\n",
       " 4       Orbit Distance:       227,943,824 km (1.38 AU)\n",
       " 5         Orbit Period:           687 days (1.9 years)\n",
       " 6  Surface Temperature:                   -87 to -5 °C\n",
       " 7         First Record:              2nd millennium BC\n",
       " 8          Recorded By:           Egyptian astronomers,\n",
       "   Mars - Earth Comparison             Mars            Earth\n",
       " 0               Diameter:         6,779 km        12,742 km\n",
       " 1                   Mass:  6.39 × 10^23 kg  5.97 × 10^24 kg\n",
       " 2                  Moons:                2                1\n",
       " 3      Distance from Sun:   227,943,824 km   149,598,262 km\n",
       " 4         Length of Year:   687 Earth days      365.24 days\n",
       " 5            Temperature:     -87 to -5 °C      -88 to 58°C,\n",
       "                       0                              1\n",
       " 0  Equatorial Diameter:                       6,792 km\n",
       " 1       Polar Diameter:                       6,752 km\n",
       " 2                 Mass:  6.39 × 10^23 kg (0.11 Earths)\n",
       " 3                Moons:            2 (Phobos & Deimos)\n",
       " 4       Orbit Distance:       227,943,824 km (1.38 AU)\n",
       " 5         Orbit Period:           687 days (1.9 years)\n",
       " 6  Surface Temperature:                   -87 to -5 °C\n",
       " 7         First Record:              2nd millennium BC\n",
       " 8          Recorded By:           Egyptian astronomers]"
      ]
     },
     "execution_count": 409,
     "metadata": {},
     "output_type": "execute_result"
    }
   ],
   "source": [
    "tables = pd.read_html(url)\n",
    "tables"
   ]
  },
  {
   "cell_type": "code",
   "execution_count": 410,
   "metadata": {},
   "outputs": [
    {
     "data": {
      "text/html": [
       "<div>\n",
       "<style scoped>\n",
       "    .dataframe tbody tr th:only-of-type {\n",
       "        vertical-align: middle;\n",
       "    }\n",
       "\n",
       "    .dataframe tbody tr th {\n",
       "        vertical-align: top;\n",
       "    }\n",
       "\n",
       "    .dataframe thead th {\n",
       "        text-align: right;\n",
       "    }\n",
       "</style>\n",
       "<table border=\"1\" class=\"dataframe\">\n",
       "  <thead>\n",
       "    <tr style=\"text-align: right;\">\n",
       "      <th></th>\n",
       "      <th>info_type</th>\n",
       "      <th>mars_fact</th>\n",
       "    </tr>\n",
       "  </thead>\n",
       "  <tbody>\n",
       "    <tr>\n",
       "      <th>0</th>\n",
       "      <td>Equatorial Diameter:</td>\n",
       "      <td>6,792 km</td>\n",
       "    </tr>\n",
       "    <tr>\n",
       "      <th>1</th>\n",
       "      <td>Polar Diameter:</td>\n",
       "      <td>6,752 km</td>\n",
       "    </tr>\n",
       "    <tr>\n",
       "      <th>2</th>\n",
       "      <td>Mass:</td>\n",
       "      <td>6.39 × 10^23 kg (0.11 Earths)</td>\n",
       "    </tr>\n",
       "    <tr>\n",
       "      <th>3</th>\n",
       "      <td>Moons:</td>\n",
       "      <td>2 (Phobos &amp; Deimos)</td>\n",
       "    </tr>\n",
       "    <tr>\n",
       "      <th>4</th>\n",
       "      <td>Orbit Distance:</td>\n",
       "      <td>227,943,824 km (1.38 AU)</td>\n",
       "    </tr>\n",
       "    <tr>\n",
       "      <th>5</th>\n",
       "      <td>Orbit Period:</td>\n",
       "      <td>687 days (1.9 years)</td>\n",
       "    </tr>\n",
       "    <tr>\n",
       "      <th>6</th>\n",
       "      <td>Surface Temperature:</td>\n",
       "      <td>-87 to -5 °C</td>\n",
       "    </tr>\n",
       "    <tr>\n",
       "      <th>7</th>\n",
       "      <td>First Record:</td>\n",
       "      <td>2nd millennium BC</td>\n",
       "    </tr>\n",
       "    <tr>\n",
       "      <th>8</th>\n",
       "      <td>Recorded By:</td>\n",
       "      <td>Egyptian astronomers</td>\n",
       "    </tr>\n",
       "  </tbody>\n",
       "</table>\n",
       "</div>"
      ],
      "text/plain": [
       "              info_type                      mars_fact\n",
       "0  Equatorial Diameter:                       6,792 km\n",
       "1       Polar Diameter:                       6,752 km\n",
       "2                 Mass:  6.39 × 10^23 kg (0.11 Earths)\n",
       "3                Moons:            2 (Phobos & Deimos)\n",
       "4       Orbit Distance:       227,943,824 km (1.38 AU)\n",
       "5         Orbit Period:           687 days (1.9 years)\n",
       "6  Surface Temperature:                   -87 to -5 °C\n",
       "7         First Record:              2nd millennium BC\n",
       "8          Recorded By:           Egyptian astronomers"
      ]
     },
     "execution_count": 410,
     "metadata": {},
     "output_type": "execute_result"
    }
   ],
   "source": [
    "df = tables[0]\n",
    "df.columns = ['info_type', 'mars_fact']\n",
    "# df = df.set_index('info_type')\n",
    "df"
   ]
  },
  {
   "cell_type": "code",
   "execution_count": 411,
   "metadata": {},
   "outputs": [
    {
     "name": "stdout",
     "output_type": "stream",
     "text": [
      "[{'info_type': 'Equatorial Diameter:', 'mars_fact': '6,792 km'}, {'info_type': 'Polar Diameter:', 'mars_fact': '6,752 km'}, {'info_type': 'Mass:', 'mars_fact': '6.39 × 10^23 kg (0.11 Earths)'}, {'info_type': 'Moons:', 'mars_fact': '2 (Phobos & Deimos)'}, {'info_type': 'Orbit Distance:', 'mars_fact': '227,943,824 km (1.38 AU)'}, {'info_type': 'Orbit Period:', 'mars_fact': '687 days (1.9 years)'}, {'info_type': 'Surface Temperature:', 'mars_fact': '-87 to -5 °C'}, {'info_type': 'First Record:', 'mars_fact': '2nd millennium BC'}, {'info_type': 'Recorded By:', 'mars_fact': 'Egyptian astronomers'}]\n"
     ]
    },
    {
     "data": {
      "text/plain": [
       "<pymongo.results.InsertManyResult at 0x18648c98b08>"
      ]
     },
     "execution_count": 411,
     "metadata": {},
     "output_type": "execute_result"
    }
   ],
   "source": [
    "facts_dict = df.to_dict('records')\n",
    "print(facts_dict)\n",
    "db.mars_facts.insert_many(facts_dict)"
   ]
  },
  {
   "cell_type": "code",
   "execution_count": 412,
   "metadata": {},
   "outputs": [],
   "source": [
    "url = 'https://astrogeology.usgs.gov/search/results?q=hemisphere+enhanced&k1=target&v1=Mars'\n",
    "browser.visit(url)\n"
   ]
  },
  {
   "cell_type": "code",
   "execution_count": 413,
   "metadata": {},
   "outputs": [],
   "source": [
    "# html = browser.html\n",
    "# soup = BeautifulSoup(html,'html.parser')\n",
    "# hemispheres = soup.find_all('div',class_='description')\n",
    "# d={}\n",
    "\n",
    "# hemi_image_link_list=[]\n",
    "# hemi_image_list=[]\n",
    "# hemi_title_list=[]\n",
    "# i=0\n",
    "\n",
    "# for hemisphere in hemispheres:\n",
    "#     hemi_image = hemisphere.a['href']\n",
    "#     hemi_image_list.append(hemi_image)\n",
    "#     img_url = (f'https://astrogeology.usgs.gov{hemi_image}.tiff/full.jpg')\n",
    "#     hemi_image_link_list.append(img_url)\n",
    "#     title = hemisphere.h3.text.strip()\n",
    "#     hemi_title_list.append(title)\n",
    "#     d[\"dict\"] = {\"title\":title, \"img_url\": img_url}\n",
    "\n",
    "#     i=i+1\n",
    "\n",
    "    \n",
    "# print(hemi_image_list)\n",
    "# print(hemi_title_list)\n",
    "# print(hemi_image_link_list)\n",
    "# # print(hemi_dictionary_1)"
   ]
  },
  {
   "cell_type": "code",
   "execution_count": 414,
   "metadata": {},
   "outputs": [
    {
     "name": "stdout",
     "output_type": "stream",
     "text": [
      "[{'title': 'Cerberus Hemisphere Enhanced', 'img_url': 'https://astropedia.astrogeology.usgs.gov/download/Mars/Viking/cerberus_enhanced.tif/full.jpg'}, {'title': 'Schiaparelli Hemisphere Enhanced', 'img_url': 'https://astropedia.astrogeology.usgs.gov/download/Mars/Viking/schiaparelli_enhanced.tif/full.jpg'}, {'title': 'Syrtis Major Hemisphere Enhanced', 'img_url': 'https://astropedia.astrogeology.usgs.gov/download/Mars/Viking/syrtis_major_enhanced.tif/full.jpg'}, {'title': 'Valles Marineris Hemisphere Enhanced', 'img_url': 'https://astropedia.astrogeology.usgs.gov/download/Mars/Viking/valles_marineris_enhanced.tif/full.jpg'}]\n"
     ]
    },
    {
     "data": {
      "text/plain": [
       "<pymongo.results.InsertManyResult at 0x18647347a48>"
      ]
     },
     "execution_count": 414,
     "metadata": {},
     "output_type": "execute_result"
    }
   ],
   "source": [
    "url = (\"https://astrogeology.usgs.gov/search/results?q=hemisphere+enhanced&k1=target&v1=Mars\")\n",
    "\n",
    "browser.visit(url)\n",
    "\n",
    "# Click the link, find the sample anchor, return the href\n",
    "hemisphere_image_urls_dict = []\n",
    "for i in range(4):\n",
    "    # Find the elements on each loop to avoid a stale element exception\n",
    "    browser.find_by_css(\"a.product-item h3\")[i].click()\n",
    "    hemi_soup = BeautifulSoup(browser.html, \"html.parser\")\n",
    "\n",
    "    # adding try/except for error handling\n",
    "    try:\n",
    "        title_elem = hemi_soup.find(\"h2\", class_=\"title\").get_text()\n",
    "        sample_elem = hemi_soup.find(\"a\", text=\"Sample\").get(\"href\")\n",
    "\n",
    "    except AttributeError:\n",
    "# Image error will return None, for better front-end handling\n",
    "        title_elem = None\n",
    "        sample_elem = None\n",
    "\n",
    "    hemispheres = {\n",
    "        \"title\": title_elem,\n",
    "        \"img_url\": sample_elem\n",
    "    }\n",
    "    # Append hemisphere object to list\n",
    "    hemisphere_image_urls_dict.append(hemispheres)\n",
    "    # Finally, we navigate backwards\n",
    "    browser.back()\n",
    "print(hemisphere_image_urls_dict)\n",
    "db.mars_hemi.insert_many(hemisphere_image_urls_dict)"
   ]
  }
 ],
 "metadata": {
  "kernelspec": {
   "display_name": "Python 3",
   "language": "python",
   "name": "python3"
  },
  "language_info": {
   "codemirror_mode": {
    "name": "ipython",
    "version": 3
   },
   "file_extension": ".py",
   "mimetype": "text/x-python",
   "name": "python",
   "nbconvert_exporter": "python",
   "pygments_lexer": "ipython3",
   "version": "3.7.6"
  }
 },
 "nbformat": 4,
 "nbformat_minor": 4
}
